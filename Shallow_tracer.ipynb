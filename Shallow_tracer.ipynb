{
 "cells": [
  {
   "cell_type": "markdown",
   "metadata": {},
   "source": [
    "# Shallow water equations with a tracer"
   ]
  },
  {
   "cell_type": "markdown",
   "metadata": {},
   "source": [
    "We can augment the shallow water equations discussed in [Shallow_water.ipynb](Shallow_water.ipynb) with a tracer $\\phi(x,t)$ that measures the concentration of a tracer that is advected with the fluid motion (and that has no influence on the fluid dynamics).  If $\\phi$ is measured in units of mass per unit volume (or per unit area of the vertical cross section in this one-dimensional example) then the mass per unit length along the $x$ axis is given by $h(x,t)\\phi(x,t)$.  The quantity $\\phi$ satisfies the variable coefficient advection equation in advective (non-conservative) form:\n",
    "$$\n",
    "\\phi_t(x,t) + u(x,t)\\phi_x(x,t) = 0.\n",
    "$$\n",
    "This is also called the \"color equation\", since we can think of $\\phi$ as measuring the concentration of a dye that changes the color of the water.  We will use this interpretation in the plots below.  By setting the intitial conditions $\\phi(x,0)$ to be piecewise constant with different values corresponding to different colors, we can visualize the motion of the fluid better.   We will use a dark shade of blue for the water that is initially to the left of a dam at $x=0$ and a lighter shade of blue for the water that is initially to the right.\n",
    "\n",
    "Note that in [Introduction.ipynb](Introduction.ipynb) and [Shallow_water.ipynb](Shallow_water.ipynb) we used additional variations of $\\phi$ to give stripes of colors on each side of the discontinuity.  But we are now discussing the Riemann problem for the extended system that includes this tracer, and so it is more natural to present the results when there is a single discontinuity in $\\phi$ at $x=0$ to better illustrate the structure of the solution to this Riemann problem."
   ]
  },
  {
   "cell_type": "markdown",
   "metadata": {},
   "source": [
    "## Conservation form\n",
    "\n",
    "Note that the quantity $h\\phi$ satisfies the conservative form of the advection equation,\n",
    "$$\n",
    "(h\\phi)_t + (uh\\phi)_x = 0.\n",
    "$$\n",
    "This can be derived by combining the color equation with the conservation of mass equation $h_t +(hu)_x  = 0$.  Since $h\\phi$ measures the concentration of dye per unit length in $x$, and we assume molecules of dye are not created or destroyed, it makes sense that this is the conserved quantity.\n",
    "\n",
    "The full system of equations in conservation form is thus:\n",
    "$$\n",
    "\\begin{split}\n",
    "h_t + (hu)_x &=0\\\\\n",
    "(hu)_t + \\left(hu^2 + \\frac 1 2 gh^2\\right)_x &=0\\\\\n",
    "(h\\phi)_t + (uh\\phi)_x &= 0\n",
    "\\end{split}\n",
    "$$\n",
    "\n",
    "The Riemann solution for this system has 3 waves.  The wave speeds are the eigenvalues of the Jacobian matrix, and are $u-c,~u,~u+c$ where $c = \\sqrt{gh}$ is the gravity wave speed.  The 1-wave and 3-wave are the nonlinear shallow water waves, which can be computed as in the shallow water equations using the first two equations of the system alone (which are independent of $\\phi$ since the tracer does not affect the fluid dynamics).\n",
    "\n",
    "The 2-wave is a contact discontinuity moving with the fluid velocity and carrying only a jump in the tracer concentration $\\phi$.  The fluid initially to the left of $x=0$ and the fluid initially to the right (denoted by two different colors $\\phi_l$ and $\\phi_r$) remain in contact with one another across this discontinuity in $\\phi$.  The characteristic speed for this wave is the fluid velocity, which is constant across this wave, and so characteristics travel parallel to the wave on either side, just as they do in the solution to the Riemann problem for the scalar advection equation.  So even though the system is nonlinear, there is one characteristic field that is said to be \"linearly degenerate\".  The nonlinear waves can each be either a shock wave or rarefaction wave depending on the initial data, as explained in [Shallow_water.ipynb](Shallow_water.ipynb).  Below we consider a dam break problem in which case there is one of each."
   ]
  },
  {
   "cell_type": "code",
   "execution_count": null,
   "metadata": {},
   "outputs": [],
   "source": [
    "%matplotlib inline\n",
    "from ipywidgets import widgets, fixed\n",
    "from ipywidgets import interact\n",
    "\n",
    "import seaborn as sns\n",
    "sns.set_style('white',{'legend.frameon':'True'});\n",
    "\n",
    "from exact_solvers import shallow_water\n",
    "from exact_solvers import shallow_water\n",
    "demo_plot = shallow_water.make_demo_plot_function"
   ]
  },
  {
   "cell_type": "markdown",
   "metadata": {},
   "source": [
    "## Dam break problem\n",
    "\n",
    "Here we plot the solution to the dam break Riemann problem for the shallow water equations with the addition of a tracer.  The tracer is now also take to be piecewise constant, with light blue representing the value $\\phi_l$ taken in the water the left of the dam, while dark blue represents the value $\\phi_r$ in the water on the right side of the dam.\n",
    "\n",
    "The structure of the depth and velocity are exactly the same as seen and discussed in detail in [Shallow_water.ipynb](Shallow_water.ipynb), and the value of $\\phi$ is constant across the 1-rarefaction and 3-shock waves.    The discontinuity in $\\phi$ shows the propagation of the 2-wave in the Riemann solution, the contact discontinuity across which $\\phi$ is discontinuous while  $h$ and $u$ are continuous. "
   ]
  },
  {
   "cell_type": "code",
   "execution_count": null,
   "metadata": {},
   "outputs": [],
   "source": [
    "interact(demo_plot(h_l=3., h_r=1., u_l=0., u_r=0, stripes=False),\n",
    "         t=widgets.FloatSlider(min=0., max=0.6, step=0.1,\n",
    "                               value=0.), fig=fixed(0));"
   ]
  },
  {
   "cell_type": "markdown",
   "metadata": {},
   "source": [
    "## Add more discussion\n",
    "\n",
    "Show the eigenvectors and discuss linearly degenerate family.\n",
    "\n",
    "Also include plots in the x-t and phase plane."
   ]
  }
 ],
 "metadata": {
  "kernelspec": {
   "display_name": "Python 2",
   "language": "python",
   "name": "python2"
  },
  "language_info": {
   "codemirror_mode": {
    "name": "ipython",
    "version": 3
   },
   "file_extension": ".py",
   "mimetype": "text/x-python",
   "name": "python",
   "nbconvert_exporter": "python",
   "pygments_lexer": "ipython3",
   "version": "3.6.5"
  }
 },
 "nbformat": 4,
 "nbformat_minor": 1
}
