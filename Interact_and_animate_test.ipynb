{
 "cells": [
  {
   "cell_type": "markdown",
   "metadata": {},
   "source": [
    "# Interact / Animate test\n",
    "\n",
    "Trying to write a function that can be used for `interact` and then converted to use `animation.FuncAnimation.to_jshtml` for html versions."
   ]
  },
  {
   "cell_type": "code",
   "execution_count": null,
   "metadata": {},
   "outputs": [],
   "source": [
    "%matplotlib inline"
   ]
  },
  {
   "cell_type": "code",
   "execution_count": null,
   "metadata": {},
   "outputs": [],
   "source": [
    "from matplotlib import pyplot as plt\n",
    "import numpy as np\n",
    "from matplotlib import animation\n",
    "from ipywidgets import interact\n",
    "from ipywidgets import widgets\n",
    "from IPython.display import HTML"
   ]
  },
  {
   "cell_type": "code",
   "execution_count": null,
   "metadata": {},
   "outputs": [],
   "source": [
    "from exact_solvers import burgers_demos"
   ]
  },
  {
   "cell_type": "code",
   "execution_count": null,
   "metadata": {},
   "outputs": [],
   "source": [
    "numframes = 10\n",
    "x, frames = burgers_demos.bump_pyclaw(numframes) "
   ]
  },
  {
   "cell_type": "markdown",
   "metadata": {},
   "source": [
    "Example adapted from Burgers to plot a frame based on `t` rather than `frame_number`:"
   ]
  },
  {
   "cell_type": "code",
   "execution_count": null,
   "metadata": {},
   "outputs": [],
   "source": [
    "fig = plt.figure()\n",
    "ax = plt.axes(xlim=(-1, 1), ylim=(-0.2, 1.2))\n",
    "line, = ax.plot([], [], '-k', lw=2)\n",
    "\n",
    "def fplott(t):\n",
    "    frameno = int(numframes*t/1.5)\n",
    "    print('t = %.1f, frameno = %i' % (t,frameno))\n",
    "    frame = frames[frameno]\n",
    "    pressure = frame.q[0,:]\n",
    "    line.set_data(x,pressure)\n",
    "    \n",
    "fplott(0.8)"
   ]
  },
  {
   "cell_type": "markdown",
   "metadata": {},
   "source": [
    "This seems like it should work in a interact, following e.g. [stackexchange](https://stackoverflow.com/questions/44329068/jupyter-notebook-interactive-plot-with-widgets)\n",
    "\n",
    "But it doesn't..."
   ]
  },
  {
   "cell_type": "code",
   "execution_count": null,
   "metadata": {},
   "outputs": [],
   "source": [
    "fig = plt.figure()\n",
    "ax = plt.axes(xlim=(-1, 1), ylim=(-0.2, 1.2))\n",
    "line, = ax.plot([], [], '-k', lw=2)\n",
    "\n",
    "def fplott(t):\n",
    "    frameno = int(numframes*t/1.5)\n",
    "    print('t = %.1f, frameno = %i' % (t,frameno))\n",
    "    frame = frames[frameno]\n",
    "    pressure = frame.q[0,:]\n",
    "    line.set_data(x,pressure)\n",
    "    fig.canvas.draw_idle()\n",
    "    #plt.show()\n",
    "    #return line,\n",
    "    \n",
    "interact(fplott, \n",
    "         t=widgets.FloatSlider(value=0.8,min=0,max=1.5))"
   ]
  },
  {
   "cell_type": "markdown",
   "metadata": {},
   "source": [
    "It works ok with `to_jshtml`..."
   ]
  },
  {
   "cell_type": "code",
   "execution_count": null,
   "metadata": {},
   "outputs": [],
   "source": [
    "fig = plt.figure()\n",
    "ax = plt.axes(xlim=(-1, 1), ylim=(-0.2, 1.2))\n",
    "line, = ax.plot([], [], '-k', lw=2)\n",
    "\n",
    "def fplott(t):\n",
    "    frameno = int(numframes*t/1.5)\n",
    "    #print('t = %.1f, frameno = %i' % (t,frameno))\n",
    "    frame = frames[frameno]\n",
    "    pressure = frame.q[0,:]\n",
    "    line.set_data(x,pressure)\n",
    "    fig.canvas.draw_idle()\n",
    "    return line,\n",
    "    \n",
    "anim = animation.FuncAnimation(fig, fplott, frames=np.linspace(0,1.5,10), interval=300)\n",
    "plt.close('all')\n",
    "HTML(anim.to_jshtml())"
   ]
  },
  {
   "cell_type": "code",
   "execution_count": null,
   "metadata": {},
   "outputs": [],
   "source": []
  }
 ],
 "metadata": {
  "kernelspec": {
   "display_name": "Python 3",
   "language": "python",
   "name": "python3"
  },
  "language_info": {
   "codemirror_mode": {
    "name": "ipython",
    "version": 3
   },
   "file_extension": ".py",
   "mimetype": "text/x-python",
   "name": "python",
   "nbconvert_exporter": "python",
   "pygments_lexer": "ipython3",
   "version": "3.6.5"
  }
 },
 "nbformat": 4,
 "nbformat_minor": 2
}
